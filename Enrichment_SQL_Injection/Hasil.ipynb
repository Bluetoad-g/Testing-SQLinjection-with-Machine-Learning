{
 "cells": [
  {
   "cell_type": "markdown",
   "id": "6f29b6a9",
   "metadata": {
    "pycharm": {
     "name": "#%% md\n"
    }
   },
   "source": [
    "###### Import Library"
   ]
  },
  {
   "cell_type": "code",
   "execution_count": 1,
   "id": "931dcf8b",
   "metadata": {
    "pycharm": {
     "name": "#%%\n"
    }
   },
   "outputs": [
    {
     "name": "stderr",
     "output_type": "stream",
     "text": [
      "[nltk_data] Downloading package stopwords to\n",
      "[nltk_data]     C:\\Users\\Jackheart\\AppData\\Roaming\\nltk_data...\n",
      "[nltk_data]   Package stopwords is already up-to-date!\n"
     ]
    }
   ],
   "source": [
    "import numpy as np\n",
    "import pandas as pd \n",
    "import nltk \n",
    "nltk.download('stopwords')\n",
    "import matplotlib.pyplot as plt\n",
    "import seaborn as sns\n",
    "from sklearn.model_selection import train_test_split\n",
    "from sklearn.pipeline import Pipeline\n",
    "from sklearn.compose import ColumnTransformer\n",
    "from sklearn.preprocessing import MinMaxScaler\n",
    "from sklearn.feature_extraction.text import CountVectorizer\n",
    "from nltk.corpus import stopwords \n",
    "from sklearn.naive_bayes import GaussianNB\n",
    "from sklearn.metrics import classification_report, confusion_matrix, accuracy_score\n",
    "import pickle\n",
    "import warnings\n",
    "\n",
    "warnings.filterwarnings('ignore')"
   ]
  },
  {
   "cell_type": "markdown",
   "id": "6645fc14",
   "metadata": {
    "pycharm": {
     "name": "#%% md\n"
    }
   },
   "source": [
    "###### Import Dataset"
   ]
  },
  {
   "cell_type": "code",
   "execution_count": 2,
   "id": "951258db",
   "metadata": {
    "pycharm": {
     "name": "#%%\n"
    }
   },
   "outputs": [],
   "source": [
    "df = pd.read_csv('sqli (1).csv', encoding='utf-16')\n",
    "df.dropna(inplace=True)"
   ]
  },
  {
   "cell_type": "code",
   "execution_count": 3,
   "id": "92945739",
   "metadata": {
    "pycharm": {
     "name": "#%%\n"
    }
   },
   "outputs": [
    {
     "name": "stdout",
     "output_type": "stream",
     "text": [
      "Label 0:  3060\n",
      "Label 1:  1127\n"
     ]
    }
   ],
   "source": [
    "print('Label 0: ', len(df[df.Label==0]))\n",
    "print('Label 1: ', len(df[df.Label==1]))"
   ]
  },
  {
   "cell_type": "code",
   "execution_count": 4,
   "id": "79f03e95",
   "metadata": {
    "pycharm": {
     "name": "#%%\n"
    }
   },
   "outputs": [
    {
     "data": {
      "text/plain": "                                               Sentence  Label\n1128             Add plain text Ne te quaesiveris extra      0\n1129   Man star; soul Render honest perfect man, Com...      0\n1130   Our acts angels are, good ill, Our fatal shad...      0\n1131   Epilogue Beaumont Fletcher’s Honest Man’s For...      0\n1132   I read day verses written eminent painter ori...      0\n...                                                 ...    ...\n4195   org/?option = com_k2  <a href = \"http://corfopym      0\n4196  com/?option = com_k2  <act>  <![CDATA[procMemb...      0\n4197                                          picsearch      0\n4198  com/is?-WZx-uhyLezKNiYLvAbKL3W4oh5F749nr2KUmFF...      0\n4199  de]]>  </email_address>   <find_account_answer...      0\n\n[3060 rows x 2 columns]",
      "text/html": "<div>\n<style scoped>\n    .dataframe tbody tr th:only-of-type {\n        vertical-align: middle;\n    }\n\n    .dataframe tbody tr th {\n        vertical-align: top;\n    }\n\n    .dataframe thead th {\n        text-align: right;\n    }\n</style>\n<table border=\"1\" class=\"dataframe\">\n  <thead>\n    <tr style=\"text-align: right;\">\n      <th></th>\n      <th>Sentence</th>\n      <th>Label</th>\n    </tr>\n  </thead>\n  <tbody>\n    <tr>\n      <th>1128</th>\n      <td>Add plain text Ne te quaesiveris extra</td>\n      <td>0</td>\n    </tr>\n    <tr>\n      <th>1129</th>\n      <td>Man star; soul Render honest perfect man, Com...</td>\n      <td>0</td>\n    </tr>\n    <tr>\n      <th>1130</th>\n      <td>Our acts angels are, good ill, Our fatal shad...</td>\n      <td>0</td>\n    </tr>\n    <tr>\n      <th>1131</th>\n      <td>Epilogue Beaumont Fletcher’s Honest Man’s For...</td>\n      <td>0</td>\n    </tr>\n    <tr>\n      <th>1132</th>\n      <td>I read day verses written eminent painter ori...</td>\n      <td>0</td>\n    </tr>\n    <tr>\n      <th>...</th>\n      <td>...</td>\n      <td>...</td>\n    </tr>\n    <tr>\n      <th>4195</th>\n      <td>org/?option = com_k2  &lt;a href = \"http://corfopym</td>\n      <td>0</td>\n    </tr>\n    <tr>\n      <th>4196</th>\n      <td>com/?option = com_k2  &lt;act&gt;  &lt;![CDATA[procMemb...</td>\n      <td>0</td>\n    </tr>\n    <tr>\n      <th>4197</th>\n      <td>picsearch</td>\n      <td>0</td>\n    </tr>\n    <tr>\n      <th>4198</th>\n      <td>com/is?-WZx-uhyLezKNiYLvAbKL3W4oh5F749nr2KUmFF...</td>\n      <td>0</td>\n    </tr>\n    <tr>\n      <th>4199</th>\n      <td>de]]&gt;  &lt;/email_address&gt;   &lt;find_account_answer...</td>\n      <td>0</td>\n    </tr>\n  </tbody>\n</table>\n<p>3060 rows × 2 columns</p>\n</div>"
     },
     "execution_count": 4,
     "metadata": {},
     "output_type": "execute_result"
    }
   ],
   "source": [
    "df[df.Label==0]"
   ]
  },
  {
   "cell_type": "markdown",
   "id": "42c19694",
   "metadata": {
    "pycharm": {
     "name": "#%% md\n"
    }
   },
   "source": [
    "###### Preprocessor"
   ]
  },
  {
   "cell_type": "code",
   "execution_count": 5,
   "id": "c7293b1c",
   "metadata": {
    "pycharm": {
     "name": "#%%\n"
    }
   },
   "outputs": [],
   "source": [
    "temp = CountVectorizer(min_df=2, max_df=0.7, stop_words=stopwords.words('english'))\n",
    "t1 = temp.fit_transform(df['Sentence'].values.astype('U')).toarray()\n",
    "vocabulary = temp.get_feature_names()\n",
    "vectorizer = CountVectorizer(min_df=2, max_df=0.7, stop_words=stopwords.words('english'), vocabulary=vocabulary)"
   ]
  },
  {
   "cell_type": "code",
   "execution_count": 6,
   "outputs": [],
   "source": [
    "pickle.dump(vectorizer, open('vectorizer.pkl', 'wb'))"
   ],
   "metadata": {
    "collapsed": false,
    "pycharm": {
     "name": "#%%\n"
    }
   }
  },
  {
   "cell_type": "code",
   "execution_count": 7,
   "outputs": [],
   "source": [
    "X = pd.DataFrame(vectorizer.fit_transform(df['Sentence'].values.astype('U')).toarray())\n",
    "y = df.Label"
   ],
   "metadata": {
    "collapsed": false,
    "pycharm": {
     "name": "#%%\n"
    }
   }
  },
  {
   "cell_type": "markdown",
   "source": [
    "###### Train Test Split"
   ],
   "metadata": {
    "collapsed": false,
    "pycharm": {
     "name": "#%% md\n"
    }
   }
  },
  {
   "cell_type": "code",
   "execution_count": 8,
   "outputs": [
    {
     "data": {
      "text/plain": "((3349, 4716), (838, 4716), (3349,), (838,))"
     },
     "execution_count": 8,
     "metadata": {},
     "output_type": "execute_result"
    }
   ],
   "source": [
    "X_train, X_test, y_train, y_test = train_test_split(X, y, test_size=0.2, stratify=y, random_state=42)\n",
    "X_train.shape, X_test.shape, y_train.shape, y_test.shape"
   ],
   "metadata": {
    "collapsed": false,
    "pycharm": {
     "name": "#%%\n"
    }
   }
  },
  {
   "cell_type": "markdown",
   "source": [
    "###### Naive Bayes"
   ],
   "metadata": {
    "collapsed": false,
    "pycharm": {
     "name": "#%% md\n"
    }
   }
  },
  {
   "cell_type": "code",
   "execution_count": 9,
   "outputs": [
    {
     "data": {
      "text/plain": "GaussianNB()"
     },
     "execution_count": 9,
     "metadata": {},
     "output_type": "execute_result"
    }
   ],
   "source": [
    "model = GaussianNB()\n",
    "model.fit(X_train, y_train)"
   ],
   "metadata": {
    "collapsed": false,
    "pycharm": {
     "name": "#%%\n"
    }
   }
  },
  {
   "cell_type": "code",
   "execution_count": 10,
   "outputs": [],
   "source": [
    "pickle.dump(model, open('model.pkl', 'wb'))"
   ],
   "metadata": {
    "collapsed": false,
    "pycharm": {
     "name": "#%%\n"
    }
   }
  },
  {
   "cell_type": "code",
   "execution_count": 11,
   "id": "0dacacd8",
   "metadata": {
    "pycharm": {
     "name": "#%%\n"
    }
   },
   "outputs": [],
   "source": [
    "pickle.dump(model, open('model.pkl', 'wb'))"
   ]
  },
  {
   "cell_type": "markdown",
   "id": "8bc642bf",
   "metadata": {
    "pycharm": {
     "name": "#%% md\n"
    }
   },
   "source": [
    "###### Evaluation"
   ]
  },
  {
   "cell_type": "code",
   "execution_count": 12,
   "id": "68414d2f",
   "metadata": {
    "pycharm": {
     "name": "#%%\n"
    }
   },
   "outputs": [
    {
     "name": "stdout",
     "output_type": "stream",
     "text": [
      "Train Result\n",
      "              precision    recall  f1-score   support\n",
      "\n",
      "           0       1.00      0.98      0.99      2448\n",
      "           1       0.94      1.00      0.97       901\n",
      "\n",
      "    accuracy                           0.98      3349\n",
      "   macro avg       0.97      0.99      0.98      3349\n",
      "weighted avg       0.98      0.98      0.98      3349\n",
      "\n",
      "Test Result\n",
      "              precision    recall  f1-score   support\n",
      "\n",
      "           0       1.00      0.96      0.98       612\n",
      "           1       0.90      1.00      0.95       226\n",
      "\n",
      "    accuracy                           0.97       838\n",
      "   macro avg       0.95      0.98      0.96       838\n",
      "weighted avg       0.97      0.97      0.97       838\n",
      "\n"
     ]
    }
   ],
   "source": [
    "print('Train Result')\n",
    "print(classification_report(y_train, model.predict(X_train)))\n",
    "print('Test Result')\n",
    "print(classification_report(y_test, model.predict(X_test)))"
   ]
  },
  {
   "cell_type": "code",
   "execution_count": 13,
   "id": "689803b7",
   "metadata": {
    "pycharm": {
     "name": "#%%\n"
    }
   },
   "outputs": [
    {
     "data": {
      "text/plain": "<Figure size 792x360 with 2 Axes>",
      "image/png": "[encoded data removed]"
     },
     "metadata": {},
     "output_type": "display_data"
    }
   ],
   "source": [
    "plt.figure(figsize=(11, 5))\n",
    "plt.subplot(121)\n",
    "labels = y_train.unique()\n",
    "cm = confusion_matrix(y_train, model.predict(X_train), labels=labels)\n",
    "sns.heatmap(cm, annot=True, square=True, cmap='Blues', cbar=False, xticklabels=labels, yticklabels=labels,\n",
    "        fmt=\"d\", annot_kws={\"fontsize\": 15})\n",
    "plt.title(f'Train score: {accuracy_score(y_train, model.predict(X_train)):.3f}', fontsize=14)\n",
    "plt.xlabel('Prediction', fontsize=14)\n",
    "plt.ylabel('Actual', fontsize=14)\n",
    "plt.yticks(rotation=90, verticalalignment='center')\n",
    "\n",
    "plt.subplot(122)\n",
    "labels = y_test.unique()\n",
    "cm = confusion_matrix(y_test, model.predict(X_test), labels=labels)\n",
    "sns.heatmap(cm, annot=True, square=True, cmap='Greens', cbar=False, xticklabels=labels, yticklabels=labels,\n",
    "        fmt=\"d\", annot_kws={\"fontsize\": 15})\n",
    "plt.title(f'Test score: {accuracy_score(y_test, model.predict(X_test)):.3f}', fontsize=14)\n",
    "plt.xlabel('Prediction', fontsize=14)\n",
    "plt.ylabel('Actual', fontsize=14)\n",
    "plt.yticks(rotation=90, verticalalignment='center');\n",
    "plt.tight_layout()\n",
    "plt.show()"
   ]
  },
  {
   "cell_type": "code",
   "execution_count": 13,
   "id": "6f26d3ff",
   "metadata": {
    "pycharm": {
     "name": "#%%\n"
    }
   },
   "outputs": [],
   "source": []
  },
  {
   "cell_type": "code",
   "execution_count": 13,
   "id": "da36506d",
   "metadata": {
    "pycharm": {
     "name": "#%%\n"
    }
   },
   "outputs": [],
   "source": []
  }
 ],
 "metadata": {
  "kernelspec": {
   "display_name": "Python 3 (ipykernel)",
   "language": "python",
   "name": "python3"
  },
  "language_info": {
   "codemirror_mode": {
    "name": "ipython",
    "version": 3
   },
   "file_extension": ".py",
   "mimetype": "text/x-python",
   "name": "python",
   "nbconvert_exporter": "python",
   "pygments_lexer": "ipython3",
   "version": "3.9.13"
  }
 },
 "nbformat": 4,
 "nbformat_minor": 5
}